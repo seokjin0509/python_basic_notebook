{
 "cells": [
  {
   "cell_type": "code",
   "execution_count": 6,
   "id": "622e4a17",
   "metadata": {
    "scrolled": true
   },
   "outputs": [
    {
     "name": "stdout",
     "output_type": "stream",
     "text": [
      "아이디 입력: ssj0509\n",
      " 회원님 반갑습니다.\n",
      " 회원님 반갑습니다.\n"
     ]
    }
   ],
   "source": [
    "# input() 사용자 키보드로부터 값을 입력!\n",
    "id = input(\"아이디 입력: ssj0509\")\n",
    "print(\"{} 회원님 반갑습니다.\".format(id))\n",
    "print(f\"{id} 회원님 반갑습니다.\")"
   ]
  }
 ],
 "metadata": {
  "kernelspec": {
   "display_name": "Python 3 (ipykernel)",
   "language": "python",
   "name": "python3"
  },
  "language_info": {
   "codemirror_mode": {
    "name": "ipython",
    "version": 3
   },
   "file_extension": ".py",
   "mimetype": "text/x-python",
   "name": "python",
   "nbconvert_exporter": "python",
   "pygments_lexer": "ipython3",
   "version": "3.9.7"
  }
 },
 "nbformat": 4,
 "nbformat_minor": 5
}
