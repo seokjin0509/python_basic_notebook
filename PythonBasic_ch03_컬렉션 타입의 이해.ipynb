{
 "cells": [
  {
   "cell_type": "markdown",
   "id": "3eab7ec8",
   "metadata": {},
   "source": [
    "## 컬렉션 타입\n",
    "- 변수: 하나에 값을 저장할 수 있는 메모리 공간\n",
    "- 컬렉션 타입: 다양한 자료형의 여러값을 저장 가능\n",
    "- list, dict, tuple, set\n",
    "\n",
    "1. list[]\n",
    "- 시퀀스 자료형(연속 된 값 저장) → 정렬 가능\n",
    "- mutabke(생성 후 변경 가능)\n",
    "- index 사용 → slicing 가능\n",
    "- packing과 unpacking 가능\n",
    "- 멤버함수 : append(), extend(), insert(), remove(), pop(), sort() 등등\n",
    "\n",
    "\n",
    "2. tuple()\n",
    "- 시퀀스 자료형(연속 된 값 저장) → 정렬 불가능\n",
    "- immuteable(생성 후 변경 불가능)\n",
    "- index 사용 → immuteable\n",
    "\n",
    "3. dict{key:value}\n",
    "- key, value 한 쌍으로 구성 된 구조\n",
    "- key 중복 불가, value 중복 가능\n",
    "- 순서 없음 → index 없음\n",
    "- 멤버함수 : update() , get(), key(), values(), items()\n",
    "\n",
    "4. set{}\n",
    "\n"
   ]
  },
  {
   "cell_type": "code",
   "execution_count": 5,
   "id": "91a3bd7b",
   "metadata": {},
   "outputs": [],
   "source": [
    "# list 초기화 \n",
    "# 1. []\n",
    "# 2. list()\n",
    "\n",
    "list_a = []\n",
    "list_b = [1, 2, 3]\n",
    "list_c = [\"cnu\", 3.14, [1, 2, 3]]"
   ]
  },
  {
   "cell_type": "code",
   "execution_count": 6,
   "id": "1740890d",
   "metadata": {},
   "outputs": [
    {
     "name": "stdout",
     "output_type": "stream",
     "text": [
      "['H', 'e', 'l', 'l', 'o']\n",
      "[1, 2, 3]\n"
     ]
    }
   ],
   "source": [
    "str_a = \"Hello\"\n",
    "list_d = list(str_a) # 문자열 → list 형변환\n",
    "print(list_d)\n",
    "\n",
    "tuple_a = (1, 2, 3)\n",
    "list_e = list(tuple_a)\n",
    "print(list_e)"
   ]
  },
  {
   "cell_type": "code",
   "execution_count": 7,
   "id": "1a2c52bc",
   "metadata": {},
   "outputs": [
    {
     "name": "stdout",
     "output_type": "stream",
     "text": [
      "4\n",
      "[2, 3]\n",
      "[1, 2]\n"
     ]
    }
   ],
   "source": [
    "list_f = [1, 2, 3, 4, 5]\n",
    "print(list_f[3])\n",
    "print(list_f[1:3])\n",
    "print(list_f[:2])"
   ]
  },
  {
   "cell_type": "code",
   "execution_count": 8,
   "id": "b6b7586e",
   "metadata": {},
   "outputs": [
    {
     "name": "stdout",
     "output_type": "stream",
     "text": [
      "[1, 2, 3, 10]\n"
     ]
    }
   ],
   "source": [
    "# append() : list 마지막에 값을 추가\n",
    "a = [1, 2, 3]\n",
    "a.append(10)\n",
    "print(a)"
   ]
  },
  {
   "cell_type": "code",
   "execution_count": 9,
   "id": "ced440e0",
   "metadata": {
    "scrolled": true
   },
   "outputs": [
    {
     "name": "stdout",
     "output_type": "stream",
     "text": [
      "[1, 99, 2, 3]\n"
     ]
    }
   ],
   "source": [
    "# insert() : list 원하는 인덱스 위치에 값을 추가\n",
    "a = [1, 2, 3]\n",
    "a.insert(1, 99)\n",
    "print(a)"
   ]
  },
  {
   "cell_type": "code",
   "execution_count": 10,
   "id": "6ef84168",
   "metadata": {},
   "outputs": [
    {
     "name": "stdout",
     "output_type": "stream",
     "text": [
      "[1, 2, 3, [4, 5, 6]]\n"
     ]
    }
   ],
   "source": [
    "# extend() : list와 list 병합\n",
    "a = [1, 2, 3]\n",
    "b = [4, 5, 6]\n",
    "\n",
    "a.append(b)\n",
    "print(a)"
   ]
  },
  {
   "cell_type": "code",
   "execution_count": 11,
   "id": "14ba83ca",
   "metadata": {},
   "outputs": [
    {
     "name": "stdout",
     "output_type": "stream",
     "text": [
      "[1, 2, 3, 4, 5, 6]\n"
     ]
    }
   ],
   "source": [
    "a = [1, 2, 3]\n",
    "b = [4, 5, 6]\n",
    "a.extend(b)\n",
    "print(a)\n"
   ]
  }
 ],
 "metadata": {
  "kernelspec": {
   "display_name": "Python 3 (ipykernel)",
   "language": "python",
   "name": "python3"
  },
  "language_info": {
   "codemirror_mode": {
    "name": "ipython",
    "version": 3
   },
   "file_extension": ".py",
   "mimetype": "text/x-python",
   "name": "python",
   "nbconvert_exporter": "python",
   "pygments_lexer": "ipython3",
   "version": "3.9.7"
  }
 },
 "nbformat": 4,
 "nbformat_minor": 5
}
